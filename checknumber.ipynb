{
 "cells": [
  {
   "cell_type": "code",
   "execution_count": 52,
   "metadata": {},
   "outputs": [
    {
     "name": "stdout",
     "output_type": "stream",
     "text": [
      "1\n",
      "2\n",
      "3\n",
      "4\n",
      "5\n"
     ]
    }
   ],
   "source": [
    "import random\n",
    "random_number = random.choice(range(101))\n",
    "random_number_two = random.choice(range(random_number - 5,random_number + 5))\n",
    "count = 1\n",
    "while True:\n",
    "    user_input = int(input(f'Số lớn hơn {random_number - 5} và nhỏ hơn {random_number + 5}'))\n",
    "    print(count)\n",
    "    if user_input == random_number:\n",
    "        count += 1\n",
    "        check = input(f'Đúng rồi, số lần đoán là {count}. Nhấp a để tiếp tục hoặc phím bất kì để dừng lại')\n",
    "        if check != 'a':\n",
    "            break\n",
    "    else:\n",
    "        count += 1"
   ]
  }
 ],
 "metadata": {
  "kernelspec": {
   "display_name": "base",
   "language": "python",
   "name": "python3"
  },
  "language_info": {
   "codemirror_mode": {
    "name": "ipython",
    "version": 3
   },
   "file_extension": ".py",
   "mimetype": "text/x-python",
   "name": "python",
   "nbconvert_exporter": "python",
   "pygments_lexer": "ipython3",
   "version": "3.11.5"
  }
 },
 "nbformat": 4,
 "nbformat_minor": 2
}
